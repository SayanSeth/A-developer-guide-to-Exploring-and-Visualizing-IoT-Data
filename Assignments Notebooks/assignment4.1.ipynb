{
 "cells": [
  {
   "cell_type": "markdown",
   "metadata": {},
   "source": [
    "# Assignment 4\n",
    "\n",
    "Welcome to Assignment 4. This will be the most fun. Now we will prepare data for plotting.\n",
    "\n",
    "Just make sure you hit the play button on each cell from top to down. There are three functions you have to implement. Please also make sure than on each change on a function you hit the play button again on the corresponding cell to make it available to the rest of this notebook. Please also make sure to only implement the function bodies and DON'T add any additional code outside functions since this might confuse the autograder.\n",
    "\n",
    "So the function below is used to make it easy for you to create a data frame from a cloudant data frame using the so called \"DataSource\" which is some sort of a plugin which allows ApacheSpark to use different data sources.\n"
   ]
  },
  {
   "cell_type": "code",
   "execution_count": null,
   "metadata": {
    "collapsed": true
   },
   "outputs": [],
   "source": [
    "#Please don't modify this function\n",
    "def readDataFrameFromCloudant(host,user,pw,database):\n",
    "    cloudantdata=spark.read.format(\"com.cloudant.spark\"). \\\n",
    "    option(\"cloudant.host\",host). \\\n",
    "    option(\"cloudant.username\", user). \\\n",
    "    option(\"cloudant.password\", pw). \\\n",
    "    load(database)\n",
    "\n",
    "    cloudantdata.createOrReplaceTempView(\"washing\")\n",
    "    spark.sql(\"SELECT * from washing\").show()\n",
    "    return cloudantdata"
   ]
  },
  {
   "cell_type": "markdown",
   "metadata": {},
   "source": [
    "Sampling is one of the most important things when it comes to visualization because often the data set get so huge that you simply\n",
    "\n",
    "- can't copy all data to a local Spark driver (Data Science Experience is using a \"local\" Spark driver)\n",
    "- can't throw all data at the plotting library\n",
    "\n",
    "Please implement a function which returns a 10% sample of a given data frame:"
   ]
  },
  {
   "cell_type": "code",
   "execution_count": null,
   "metadata": {
    "collapsed": true
   },
   "outputs": [],
   "source": [
    "def getSample(df,spark):\n",
    "    df = df.rdd.sample(False,0.1).toDF()\n",
    "    return df"
   ]
  },
  {
   "cell_type": "markdown",
   "metadata": {},
   "source": [
    "Now we want to create a histogram and boxplot. Please ignore the sampling for now and retur a python list containing all temperature values from the data set"
   ]
  },
  {
   "cell_type": "code",
   "execution_count": null,
   "metadata": {
    "collapsed": true
   },
   "outputs": [],
   "source": [
    "def getListForHistogramAndBoxPlot(df,spark):\n",
    "    result_df = spark.sql(\"\"\"\n",
    "    select hardness,temperature,flowrate from washing\n",
    "    where hardness is not null and \n",
    "    temperature is not null and \n",
    "    flowrate is not null\n",
    "    \"\"\")\n",
    "    result_rdd = result_df.rdd.map(lambda row : (row.hardness,row.temperature,row.temperature))\n",
    "    result_array_temperature = result_rdd.map(lambda (hardness,temperature,flowrate): temperature).collect()\n",
    "    return result_array_temperature"
   ]
  },
  {
   "cell_type": "markdown",
   "metadata": {},
   "source": [
    "Finally we want to create a run chart. Please return two lists (encapusalted in a python tuple object) containing temperature and timestamp (ts) ordered by timestamp. Please refere to the following link to learn more about tuples in python: https://www.tutorialspoint.com/python/python_tuples.htm"
   ]
  },
  {
   "cell_type": "code",
   "execution_count": null,
   "metadata": {
    "collapsed": true
   },
   "outputs": [],
   "source": [
    "#should return a tuple containing the two lists for timestamp and temperature\n",
    "#please make sure you take only 10% of the data by sampling\n",
    "#please also ensure that you sample in a way that the timestamp samples and temperature samples correspond (=> call sample on an object still containing both dimensions)\n",
    "def getListsForRunChart(df,spark):\n",
    "    result = spark.sql(\"select temperature,ts from washing where temperature is not null\")\n",
    "    result_rdd = result.rdd.sample(False,0.1).map(lambda row : (row.ts,row.temperature))\n",
    "    result_array_ts = result_rdd.map(lambda (ts,temperature): ts).collect()\n",
    "    result_array_temperature = result_rdd.map(lambda (ts,temperature): temperature).collect()\n",
    "    return (result_array_ts,result_array_temperature)"
   ]
  },
  {
   "cell_type": "markdown",
   "metadata": {},
   "source": [
    "### PLEASE DON'T REMOVE THIS BLOCK - THE FOLLOWING CODE IS NOT GRADED\n",
    "#axx\n",
    "### PLEASE DON'T REMOVE THIS BLOCK - THE FOLLOWING CODE IS NOT GRADED"
   ]
  },
  {
   "cell_type": "code",
   "execution_count": null,
   "metadata": {},
   "outputs": [],
   "source": [
    "#TODO Please provide your Cloudant credentials here\n",
    "hostname = \"5da95359-f025-45b3-a14f-1f073c4e2b86-bluemix.cloudant.com\"\n",
    "user = \"5da95359-f025-45b3-a14f-1f073c4e2b86-bluemix\"\n",
    "pw = \"7848eceb555a38cd95223ee326857466fe69d813e5dcbda03b0ccbe39e071b2d\"\n",
    "database = \"washing\"\n",
    "cloudantdata=readDataFrameFromCloudant(hostname, user, pw, database)"
   ]
  },
  {
   "cell_type": "code",
   "execution_count": null,
   "metadata": {
    "collapsed": true
   },
   "outputs": [],
   "source": [
    "%matplotlib inline\n",
    "import matplotlib.pyplot as plt"
   ]
  },
  {
   "cell_type": "code",
   "execution_count": null,
   "metadata": {
    "collapsed": true
   },
   "outputs": [],
   "source": [
    "plt.hist(getListForHistogramAndBoxPlot(cloudantdata,spark))\n",
    "plt.show()"
   ]
  },
  {
   "cell_type": "code",
   "execution_count": null,
   "metadata": {
    "collapsed": true
   },
   "outputs": [],
   "source": [
    "plt.boxplot(getListForHistogramAndBoxPlot(cloudantdata,spark))\n",
    "plt.show()"
   ]
  },
  {
   "cell_type": "code",
   "execution_count": null,
   "metadata": {},
   "outputs": [],
   "source": [
    "lists = getListsForRunChart(cloudantdata,spark)\n",
    "lists"
   ]
  },
  {
   "cell_type": "code",
   "execution_count": null,
   "metadata": {},
   "outputs": [],
   "source": [
    "plt.plot(lists[0],lists[1])\n",
    "plt.xlabel(\"time\")\n",
    "plt.ylabel(\"temperature\")\n",
    "plt.show()"
   ]
  },
  {
   "cell_type": "markdown",
   "metadata": {},
   "source": [
    "Congratulations, you are done! Please download the notebook as python file, name it assignment4.1.py and sumbit it to the grader."
   ]
  }
 ],
 "metadata": {
  "kernelspec": {
   "display_name": "Python 2 with Spark 2.0",
   "language": "python",
   "name": "python2-spark20"
  },
  "language_info": {
   "codemirror_mode": {
    "name": "ipython",
    "version": 2
   },
   "file_extension": ".py",
   "mimetype": "text/x-python",
   "name": "python",
   "nbconvert_exporter": "python",
   "pygments_lexer": "ipython2",
   "version": "2.7.11"
  }
 },
 "nbformat": 4,
 "nbformat_minor": 1
}
